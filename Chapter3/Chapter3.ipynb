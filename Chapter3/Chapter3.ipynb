{
 "cells": [
  {
   "cell_type": "code",
   "execution_count": 13,
   "metadata": {},
   "outputs": [],
   "source": [
    "import tensorflow as tf\n",
    "from numpy.random import RandomState"
   ]
  },
  {
   "cell_type": "code",
   "execution_count": 14,
   "metadata": {},
   "outputs": [],
   "source": [
    "batch_size = 8"
   ]
  },
  {
   "cell_type": "code",
   "execution_count": 15,
   "metadata": {},
   "outputs": [],
   "source": [
    "W1 = tf.Variable(tf.random_normal([2,3], stddev=1, seed=1))\n",
    "W2 = tf.Variable(tf.random_normal([3,1], stddev=1, seed=1))"
   ]
  },
  {
   "cell_type": "code",
   "execution_count": 16,
   "metadata": {},
   "outputs": [],
   "source": [
    "x = tf.placeholder(tf.float32, shape=(None, 2), name = 'x-input')\n",
    "y_ = tf.placeholder(tf.float32, shape=(None, 1), name = 'y-input')"
   ]
  },
  {
   "cell_type": "code",
   "execution_count": 22,
   "metadata": {},
   "outputs": [],
   "source": [
    "a=tf.matmul(x, W1)\n",
    "y=tf.matmul(a, W2)\n",
    "y=tf.sigmoid(y)\n",
    "cross_entrophy = -tf.reduce_mean(y_ * tf.log(tf.clip_by_value(y, 1e-10, 1.0)) + (1-y_)* tf.log(tf.clip_by_value(1-y, 1e-10, 1.0)))\n",
    "train_step = tf.train.AdamOptimizer(0.001).minimize(cross_entrophy)"
   ]
  },
  {
   "cell_type": "code",
   "execution_count": 23,
   "metadata": {},
   "outputs": [],
   "source": [
    "rdm = RandomState(1)\n",
    "dataset_size = 128\n",
    "X = rdm.rand(dataset_size, 2)\n",
    "Y = [[int(x1+x2 < 1)] for (x1, x2) in X]"
   ]
  },
  {
   "cell_type": "code",
   "execution_count": 26,
   "metadata": {},
   "outputs": [
    {
     "name": "stdout",
     "output_type": "stream",
     "text": [
      "[[-0.8113182   1.4845988   0.06532937]\n",
      " [-2.4427042   0.0992484   0.5912243 ]]\n",
      "[[-0.8113182 ]\n",
      " [ 1.4845988 ]\n",
      " [ 0.06532937]]\n",
      "After 0 steps cross_entrophy is 1.898049\n",
      "After 1000 steps cross_entrophy is 0.642042\n",
      "After 2000 steps cross_entrophy is 0.616937\n",
      "After 3000 steps cross_entrophy is 0.608774\n",
      "After 4000 steps cross_entrophy is 0.608085\n",
      "After 5000 steps cross_entrophy is 0.608079\n",
      "After 6000 steps cross_entrophy is 0.608079\n",
      "After 7000 steps cross_entrophy is 0.608079\n",
      "After 8000 steps cross_entrophy is 0.608079\n",
      "After 9000 steps cross_entrophy is 0.608079\n",
      "After 10000 steps cross_entrophy is 0.608079\n",
      "After 11000 steps cross_entrophy is 0.608079\n",
      "After 12000 steps cross_entrophy is 0.608079\n",
      "After 13000 steps cross_entrophy is 0.608079\n",
      "After 14000 steps cross_entrophy is 0.608079\n",
      "After 15000 steps cross_entrophy is 0.608079\n",
      "After 16000 steps cross_entrophy is 0.608079\n",
      "After 17000 steps cross_entrophy is 0.608079\n",
      "After 18000 steps cross_entrophy is 0.608079\n",
      "After 19000 steps cross_entrophy is 0.608079\n",
      "After 20000 steps cross_entrophy is 0.608079\n",
      "After 21000 steps cross_entrophy is 0.608079\n",
      "After 22000 steps cross_entrophy is 0.608079\n",
      "After 23000 steps cross_entrophy is 0.608079\n",
      "After 24000 steps cross_entrophy is 0.608079\n",
      "After 25000 steps cross_entrophy is 0.608079\n",
      "After 26000 steps cross_entrophy is 0.608079\n",
      "After 27000 steps cross_entrophy is 0.608079\n",
      "After 28000 steps cross_entrophy is 0.608079\n",
      "After 29000 steps cross_entrophy is 0.608079\n",
      "After 30000 steps cross_entrophy is 0.608079\n",
      "After 31000 steps cross_entrophy is 0.608079\n",
      "After 32000 steps cross_entrophy is 0.608079\n",
      "After 33000 steps cross_entrophy is 0.608079\n",
      "After 34000 steps cross_entrophy is 0.608079\n",
      "After 35000 steps cross_entrophy is 0.608079\n",
      "After 36000 steps cross_entrophy is 0.608079\n",
      "After 37000 steps cross_entrophy is 0.608079\n",
      "After 38000 steps cross_entrophy is 0.608079\n",
      "After 39000 steps cross_entrophy is 0.608079\n",
      "After 40000 steps cross_entrophy is 0.608079\n",
      "After 41000 steps cross_entrophy is 0.608079\n",
      "After 42000 steps cross_entrophy is 0.608079\n",
      "After 43000 steps cross_entrophy is 0.608079\n",
      "After 44000 steps cross_entrophy is 0.608079\n",
      "After 45000 steps cross_entrophy is 0.608079\n",
      "After 46000 steps cross_entrophy is 0.608079\n",
      "After 47000 steps cross_entrophy is 0.608079\n",
      "After 48000 steps cross_entrophy is 0.608079\n",
      "After 49000 steps cross_entrophy is 0.608079\n"
     ]
    }
   ],
   "source": [
    "with tf.Session() as sess:\n",
    "    init_op = tf.global_variables_initializer()\n",
    "    sess.run(init_op)\n",
    "    print sess.run(W1)\n",
    "    print sess.run(W2)\n",
    "    STEPS = 5000\n",
    "    for i in range(50000):\n",
    "        start = (i * batch_size) % dataset_size\n",
    "        end = min(start + batch_size, dataset_size)\n",
    "        sess.run(train_step, feed_dict = {x: X, y_: Y})\n",
    "        \n",
    "        if i % 1000 == 0:\n",
    "            entrophy = sess.run(cross_entrophy, feed_dict = {x: X, y_: Y})\n",
    "            print(\"After %d steps cross_entrophy is %f\" % (i, entrophy))"
   ]
  },
  {
   "cell_type": "code",
   "execution_count": 31,
   "metadata": {},
   "outputs": [
    {
     "name": "stdout",
     "output_type": "stream",
     "text": [
      "[[2.5 2.5 3. ]\n",
      " [4.  4.5 4.5]]\n",
      "[[ 1.  4.  9.]\n",
      " [16. 25. 36.]]\n",
      "15.166667\n"
     ]
    }
   ],
   "source": [
    "with tf.Session() as sess:\n",
    "    v = tf.constant([[1.0,2.0,3.0],[4.0,5.0,6.0]])\n",
    "    print tf.clip_by_value(v, 2.5, 4.5).eval()\n",
    "    print sess.run(tf.square(v))\n",
    "    print sess.run(tf.reduce_mean(tf.square(v)))"
   ]
  },
  {
   "cell_type": "code",
   "execution_count": null,
   "metadata": {},
   "outputs": [],
   "source": []
  }
 ],
 "metadata": {
  "kernelspec": {
   "display_name": "Python 2",
   "language": "python",
   "name": "python2"
  },
  "language_info": {
   "codemirror_mode": {
    "name": "ipython",
    "version": 2
   },
   "file_extension": ".py",
   "mimetype": "text/x-python",
   "name": "python",
   "nbconvert_exporter": "python",
   "pygments_lexer": "ipython2",
   "version": "2.7.10"
  }
 },
 "nbformat": 4,
 "nbformat_minor": 2
}
